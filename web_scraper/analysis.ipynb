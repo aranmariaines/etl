{
 "cells": [
  {
   "cell_type": "code",
   "execution_count": 25,
   "metadata": {},
   "outputs": [],
   "source": [
    "# Libraries\n",
    "from functions import connect_to_database\n",
    "from credentials import user,password,host,database_name\n",
    "import pandas as pd\n",
    "import matplotlib.pyplot as plt\n",
    "import geopandas as gpd\n",
    "\n",
    "%matplotlib inline"
   ]
  },
  {
   "cell_type": "markdown",
   "metadata": {},
   "source": [
    "### Connect to Database"
   ]
  },
  {
   "cell_type": "code",
   "execution_count": 83,
   "metadata": {},
   "outputs": [],
   "source": [
    "# Conect to Database\n",
    "engine = connect_to_database(user,password,host,database_name)"
   ]
  },
  {
   "cell_type": "code",
   "execution_count": 84,
   "metadata": {},
   "outputs": [],
   "source": [
    "cortescomunicados = pd.read_sql_query(\"\"\"select * from cortescomunicados\"\"\", engine)\n",
    "cortespreventivos = pd.read_sql_query(\"\"\"select * from cortespreventivos\"\"\", engine)\n",
    "cortesprogramados = pd.read_sql_query(\"\"\"select * from cortesprogramados\"\"\", engine)\n",
    "cortesserviciobaja = pd.read_sql_query(\"\"\"select * from cortesserviciobaja\"\"\", engine)\n",
    "cortesserviciomedia = pd.read_sql_query(\"\"\"select * from cortesserviciomedia\"\"\", engine)\n",
    "general = pd.read_sql_query(\"\"\"select * from general\"\"\", engine)"
   ]
  },
  {
   "cell_type": "code",
   "execution_count": 94,
   "metadata": {},
   "outputs": [
    {
     "data": {
      "text/html": [
       "<div>\n",
       "<style scoped>\n",
       "    .dataframe tbody tr th:only-of-type {\n",
       "        vertical-align: middle;\n",
       "    }\n",
       "\n",
       "    .dataframe tbody tr th {\n",
       "        vertical-align: top;\n",
       "    }\n",
       "\n",
       "    .dataframe thead th {\n",
       "        text-align: right;\n",
       "    }\n",
       "</style>\n",
       "<table border=\"1\" class=\"dataframe\">\n",
       "  <thead>\n",
       "    <tr style=\"text-align: right;\">\n",
       "      <th></th>\n",
       "      <th>empresa</th>\n",
       "      <th>fuente</th>\n",
       "      <th>totalUsuariosAyer</th>\n",
       "      <th>totalUsuariosConSuministro</th>\n",
       "      <th>totalUsuariosSinSuministro</th>\n",
       "      <th>ultimaActualizacion</th>\n",
       "      <th>created_on</th>\n",
       "      <th>company</th>\n",
       "    </tr>\n",
       "  </thead>\n",
       "  <tbody>\n",
       "    <tr>\n",
       "      <th>0</th>\n",
       "      <td>EDESUR</td>\n",
       "      <td>Web Service</td>\n",
       "      <td>34.164</td>\n",
       "      <td>2.530.568</td>\n",
       "      <td>3612</td>\n",
       "      <td>12:55</td>\n",
       "      <td>2019-11-06 13:03:20</td>\n",
       "      <td>edesur</td>\n",
       "    </tr>\n",
       "    <tr>\n",
       "      <th>1</th>\n",
       "      <td>EDENOR</td>\n",
       "      <td>Web Service</td>\n",
       "      <td>54.468</td>\n",
       "      <td>2.994.375</td>\n",
       "      <td>4116</td>\n",
       "      <td>12:55</td>\n",
       "      <td>2019-11-06 13:03:20</td>\n",
       "      <td>edenor</td>\n",
       "    </tr>\n",
       "    <tr>\n",
       "      <th>2</th>\n",
       "      <td>EDESUR</td>\n",
       "      <td>Web Service</td>\n",
       "      <td>34.164</td>\n",
       "      <td>2.530.577</td>\n",
       "      <td>3603</td>\n",
       "      <td>13:00</td>\n",
       "      <td>2019-11-06 13:08:20</td>\n",
       "      <td>edesur</td>\n",
       "    </tr>\n",
       "    <tr>\n",
       "      <th>3</th>\n",
       "      <td>EDENOR</td>\n",
       "      <td>Web Service</td>\n",
       "      <td>54.468</td>\n",
       "      <td>2.994.375</td>\n",
       "      <td>4116</td>\n",
       "      <td>13:00</td>\n",
       "      <td>2019-11-06 13:08:20</td>\n",
       "      <td>edenor</td>\n",
       "    </tr>\n",
       "    <tr>\n",
       "      <th>4</th>\n",
       "      <td>EDESUR</td>\n",
       "      <td>Web Service</td>\n",
       "      <td>34.164</td>\n",
       "      <td>2.530.576</td>\n",
       "      <td>3604</td>\n",
       "      <td>13:10</td>\n",
       "      <td>2019-11-06 13:13:21</td>\n",
       "      <td>edesur</td>\n",
       "    </tr>\n",
       "  </tbody>\n",
       "</table>\n",
       "</div>"
      ],
      "text/plain": [
       "  empresa       fuente totalUsuariosAyer totalUsuariosConSuministro  \\\n",
       "0  EDESUR  Web Service            34.164                  2.530.568   \n",
       "1  EDENOR  Web Service            54.468                  2.994.375   \n",
       "2  EDESUR  Web Service            34.164                  2.530.577   \n",
       "3  EDENOR  Web Service            54.468                  2.994.375   \n",
       "4  EDESUR  Web Service            34.164                  2.530.576   \n",
       "\n",
       "   totalUsuariosSinSuministro ultimaActualizacion          created_on company  \n",
       "0                        3612               12:55 2019-11-06 13:03:20  edesur  \n",
       "1                        4116               12:55 2019-11-06 13:03:20  edenor  \n",
       "2                        3603               13:00 2019-11-06 13:08:20  edesur  \n",
       "3                        4116               13:00 2019-11-06 13:08:20  edenor  \n",
       "4                        3604               13:10 2019-11-06 13:13:21  edesur  "
      ]
     },
     "execution_count": 94,
     "metadata": {},
     "output_type": "execute_result"
    }
   ],
   "source": [
    "general.head()"
   ]
  },
  {
   "cell_type": "code",
   "execution_count": 86,
   "metadata": {},
   "outputs": [],
   "source": [
    "general['created_on'] = pd.to_datetime(general['created_on'], format = '%Y-%m-%d %H:%M:%S')\n",
    "#general['ultimaActualizacion'] = pd.to_datetime(general['ultimaActualizacion'], format = '%H:%M')\n",
    "general['totalUsuariosSinSuministro'] = general['totalUsuariosSinSuministro'].str.replace('.','')\n",
    "general['totalUsuariosSinSuministro'] = pd.to_numeric(general['totalUsuariosSinSuministro'])"
   ]
  },
  {
   "cell_type": "markdown",
   "metadata": {},
   "source": [
    "### Plots"
   ]
  },
  {
   "cell_type": "markdown",
   "metadata": {},
   "source": [
    "#### Time Series"
   ]
  },
  {
   "cell_type": "code",
   "execution_count": 90,
   "metadata": {},
   "outputs": [
    {
     "data": {
      "image/png": "[encoded data removed]",
      "text/plain": [
       "<Figure size 576x288 with 1 Axes>"
      ]
     },
     "metadata": {
      "needs_background": "light"
     },
     "output_type": "display_data"
    }
   ],
   "source": [
    "# Define canvas\n",
    "nrows = 1\n",
    "ncols = 1\n",
    "\n",
    "fig,ax1 = plt.subplots(figsize = (8,4), nrows = nrows,ncols = ncols)\n",
    "\n",
    "# Data \n",
    "edenor_general = general.loc[general['company']== 'edenor']\n",
    "edesur_general = general.loc[general['company']== 'edesur']\n",
    "\n",
    "# Add axis\n",
    "ax1.plot(edenor_general['created_on'],edenor_general['totalUsuariosSinSuministro'], c = 'darkblue', label = 'edenor')\n",
    "ax1.plot(edesur_general['created_on'],edesur_general['totalUsuariosSinSuministro'], c = 'gold', label = 'edesur')\n",
    "\n",
    "# Axis set up\n",
    "plt.xticks(rotation = 90)\n",
    "\n",
    "# Legend set up\n",
    "ax1.legend()\n",
    "\n",
    "# Title set up\n",
    "\n",
    "fig.tight_layout()"
   ]
  },
  {
   "cell_type": "code",
   "execution_count": 91,
   "metadata": {},
   "outputs": [
    {
     "name": "stderr",
     "output_type": "stream",
     "text": [
      "No handles with labels found to put in legend.\n"
     ]
    },
    {
     "data": {
      "image/png": "[encoded data removed]",
      "text/plain": [
       "<Figure size 576x288 with 1 Axes>"
      ]
     },
     "metadata": {
      "needs_background": "light"
     },
     "output_type": "display_data"
    }
   ],
   "source": [
    "# Define canvas\n",
    "nrows = 1\n",
    "ncols = 1\n",
    "\n",
    "fig,ax1 = plt.subplots(figsize = (8,4), nrows = nrows,ncols = ncols)\n",
    "\n",
    "# Data \n",
    "edenor_general = general.loc[general['company']== 'edenor']\n",
    "edesur_general = general.loc[general['company']== 'edesur']\n",
    "\n",
    "# Add axis\n",
    "ax1.bar(edenor_general['ultimaActualizacion'],edenor_general['totalUsuariosSinSuministro'])\n",
    "\n",
    "# Axis set up\n",
    "plt.xticks(rotation = 90)\n",
    "\n",
    "# Legend set up\n",
    "ax1.legend()\n",
    "\n",
    "# Title set up\n",
    "\n",
    "fig.tight_layout()"
   ]
  },
  {
   "cell_type": "markdown",
   "metadata": {},
   "source": [
    "####  Cortes programados"
   ]
  },
  {
   "cell_type": "code",
   "execution_count": 96,
   "metadata": {
    "scrolled": false
   },
   "outputs": [
    {
     "data": {
      "text/html": [
       "<div>\n",
       "<style scoped>\n",
       "    .dataframe tbody tr th:only-of-type {\n",
       "        vertical-align: middle;\n",
       "    }\n",
       "\n",
       "    .dataframe tbody tr th {\n",
       "        vertical-align: top;\n",
       "    }\n",
       "\n",
       "    .dataframe thead th {\n",
       "        text-align: right;\n",
       "    }\n",
       "</style>\n",
       "<table border=\"1\" class=\"dataframe\">\n",
       "  <thead>\n",
       "    <tr style=\"text-align: right;\">\n",
       "      <th></th>\n",
       "      <th>localidad</th>\n",
       "      <th>normalizacion</th>\n",
       "      <th>partido</th>\n",
       "      <th>subestacion_alimentador</th>\n",
       "      <th>usuarios</th>\n",
       "      <th>created_on</th>\n",
       "      <th>company</th>\n",
       "    </tr>\n",
       "  </thead>\n",
       "  <tbody>\n",
       "    <tr>\n",
       "      <th>0</th>\n",
       "      <td>ADROGUE</td>\n",
       "      <td>2019-11-06 18:00</td>\n",
       "      <td>ALMIRANTE BROWN</td>\n",
       "      <td>180-ALMIRANTE BROWN / R:180-4-46 / 180-4-46</td>\n",
       "      <td>196</td>\n",
       "      <td>2019-11-06 13:03:20</td>\n",
       "      <td>edesur</td>\n",
       "    </tr>\n",
       "    <tr>\n",
       "      <th>1</th>\n",
       "      <td>BURZACO</td>\n",
       "      <td>2019-11-06 18:00</td>\n",
       "      <td>ALMIRANTE BROWN</td>\n",
       "      <td>180-ALMIRANTE BROWN / R:180-4-46 / 180-4-46</td>\n",
       "      <td>173</td>\n",
       "      <td>2019-11-06 13:03:20</td>\n",
       "      <td>edesur</td>\n",
       "    </tr>\n",
       "    <tr>\n",
       "      <th>2</th>\n",
       "      <td>BERAZATEGUI CENTRO</td>\n",
       "      <td>Sin datos</td>\n",
       "      <td>BERAZATEGUI</td>\n",
       "      <td>85-CALCHAQUI / R:085-1-15 / 085-1-15</td>\n",
       "      <td>323</td>\n",
       "      <td>2019-11-06 13:03:20</td>\n",
       "      <td>edesur</td>\n",
       "    </tr>\n",
       "    <tr>\n",
       "      <th>3</th>\n",
       "      <td>BERAZATEGUI CENTRO</td>\n",
       "      <td>2019-11-06 15:43</td>\n",
       "      <td>BERAZATEGUI</td>\n",
       "      <td>85-CALCHAQUI / R:085-2-21 / 085-2-21</td>\n",
       "      <td>377</td>\n",
       "      <td>2019-11-06 13:03:20</td>\n",
       "      <td>edesur</td>\n",
       "    </tr>\n",
       "    <tr>\n",
       "      <th>4</th>\n",
       "      <td>LANUS OESTE</td>\n",
       "      <td>2019-11-06 19:00</td>\n",
       "      <td>LANUS</td>\n",
       "      <td>87-ESCALADA / R:087-1-07 / 087-1-07</td>\n",
       "      <td>1261</td>\n",
       "      <td>2019-11-06 13:03:20</td>\n",
       "      <td>edesur</td>\n",
       "    </tr>\n",
       "  </tbody>\n",
       "</table>\n",
       "</div>"
      ],
      "text/plain": [
       "            localidad     normalizacion          partido  \\\n",
       "0             ADROGUE  2019-11-06 18:00  ALMIRANTE BROWN   \n",
       "1             BURZACO  2019-11-06 18:00  ALMIRANTE BROWN   \n",
       "2  BERAZATEGUI CENTRO         Sin datos      BERAZATEGUI   \n",
       "3  BERAZATEGUI CENTRO  2019-11-06 15:43      BERAZATEGUI   \n",
       "4         LANUS OESTE  2019-11-06 19:00            LANUS   \n",
       "\n",
       "                       subestacion_alimentador usuarios           created_on  \\\n",
       "0  180-ALMIRANTE BROWN / R:180-4-46 / 180-4-46      196  2019-11-06 13:03:20   \n",
       "1  180-ALMIRANTE BROWN / R:180-4-46 / 180-4-46      173  2019-11-06 13:03:20   \n",
       "2         85-CALCHAQUI / R:085-1-15 / 085-1-15      323  2019-11-06 13:03:20   \n",
       "3         85-CALCHAQUI / R:085-2-21 / 085-2-21      377  2019-11-06 13:03:20   \n",
       "4          87-ESCALADA / R:087-1-07 / 087-1-07     1261  2019-11-06 13:03:20   \n",
       "\n",
       "  company  \n",
       "0  edesur  \n",
       "1  edesur  \n",
       "2  edesur  \n",
       "3  edesur  \n",
       "4  edesur  "
      ]
     },
     "execution_count": 96,
     "metadata": {},
     "output_type": "execute_result"
    }
   ],
   "source": [
    "cortesprogramados.head()"
   ]
  },
  {
   "cell_type": "code",
   "execution_count": null,
   "metadata": {},
   "outputs": [],
   "source": []
  },
  {
   "cell_type": "code",
   "execution_count": null,
   "metadata": {},
   "outputs": [],
   "source": [
    "# Disconect from database\n",
    "engine.dispose()"
   ]
  }
 ],
 "metadata": {
  "kernelspec": {
   "display_name": "Python 3",
   "language": "python",
   "name": "python3"
  },
  "language_info": {
   "codemirror_mode": {
    "name": "ipython",
    "version": 3
   },
   "file_extension": ".py",
   "mimetype": "text/x-python",
   "name": "python",
   "nbconvert_exporter": "python",
   "pygments_lexer": "ipython3",
   "version": "3.7.3"
  }
 },
 "nbformat": 4,
 "nbformat_minor": 2
}
